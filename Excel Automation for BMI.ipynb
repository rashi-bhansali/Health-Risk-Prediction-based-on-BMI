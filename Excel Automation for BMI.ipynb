{
 "cells": [
  {
   "cell_type": "markdown",
   "metadata": {},
   "source": [
    "## Importing Selenium library"
   ]
  },
  {
   "cell_type": "code",
   "execution_count": 5,
   "metadata": {},
   "outputs": [],
   "source": [
    "from selenium import webdriver\n",
    "from selenium.common.exceptions import TimeoutException\n",
    "from selenium.webdriver.support.ui import WebDriverWait\n",
    "from selenium.webdriver.support import expected_conditions as EC"
   ]
  },
  {
   "cell_type": "markdown",
   "metadata": {},
   "source": [
    "## Opening Google Chrome"
   ]
  },
  {
   "cell_type": "code",
   "execution_count": 6,
   "metadata": {},
   "outputs": [],
   "source": [
    "browser = webdriver.Chrome(executable_path = r'C:\\Users\\Rashi BHansali\\Desktop\\Python Project A11\\chromedriver.exe' )"
   ]
  },
  {
   "cell_type": "markdown",
   "metadata": {},
   "source": [
    "## Controlling Chrome: opening sites and searching"
   ]
  },
  {
   "cell_type": "code",
   "execution_count": 7,
   "metadata": {},
   "outputs": [],
   "source": [
    "browser.get(\"https://www.nhlbi.nih.gov/health/educational/lose_wt/BMI/bmi-m.htm\")"
   ]
  },
  {
   "cell_type": "markdown",
   "metadata": {},
   "source": [
    "## Opening Excel File using Python"
   ]
  },
  {
   "cell_type": "code",
   "execution_count": 8,
   "metadata": {},
   "outputs": [],
   "source": [
    "import openpyxl "
   ]
  },
  {
   "cell_type": "code",
   "execution_count": 9,
   "metadata": {},
   "outputs": [],
   "source": [
    "file_location = r\"C:\\Users\\Rashi BHansali\\Desktop\\Python Project A11\\Train_set.xlsx\"\n",
    "workbook = openpyxl.load_workbook(file_location)   #gets access to the excel workbook data\n",
    "sheet = workbook['Sheet1']  "
   ]
  },
  {
   "cell_type": "markdown",
   "metadata": {},
   "source": [
    "## Accessing Height and Weight Data from Excel"
   ]
  },
  {
   "cell_type": "code",
   "execution_count": 10,
   "metadata": {},
   "outputs": [],
   "source": [
    "ht = []\n",
    "wt = []\n",
    "BMI = []"
   ]
  },
  {
   "cell_type": "code",
   "execution_count": 11,
   "metadata": {},
   "outputs": [],
   "source": [
    "for i in range(2, sheet.max_row+1):\n",
    "    wt.append(sheet.cell(row=i, column = 6).value)\n",
    "    ht.append(sheet.cell(row=i, column = 5).value)"
   ]
  },
  {
   "cell_type": "code",
   "execution_count": 12,
   "metadata": {},
   "outputs": [
    {
     "name": "stdout",
     "output_type": "stream",
     "text": [
      "200\n"
     ]
    }
   ],
   "source": [
    "print(len(ht))    #size of the data set"
   ]
  },
  {
   "cell_type": "markdown",
   "metadata": {},
   "source": [
    "## Web Browser Automation to calculate the BMI "
   ]
  },
  {
   "cell_type": "code",
   "execution_count": 13,
   "metadata": {},
   "outputs": [],
   "source": [
    "for i in range(len(wt)):\n",
    "    weight = browser.find_element_by_name('kg')\n",
    "    weight.clear()\n",
    "    weight.send_keys(str(wt[i]))\n",
    "    \n",
    "    height = browser.find_element_by_name('htc')\n",
    "    height.clear()\n",
    "    height.send_keys(str(ht[i]))\n",
    "    \n",
    "    compute_button = browser.find_element_by_class_name('colcenter')   \n",
    "    compute_button.click()\n",
    "    \n",
    "    bmi = browser.find_element_by_id('yourbmi').get_attribute('value')\n",
    "    BMI.append(float(bmi))\n",
    "    \n",
    "    "
   ]
  },
  {
   "cell_type": "markdown",
   "metadata": {},
   "source": [
    "## Feed the data back in Excel"
   ]
  },
  {
   "cell_type": "code",
   "execution_count": 14,
   "metadata": {},
   "outputs": [],
   "source": [
    "for i in range(2, sheet.max_row+1):\n",
    "    sheet.cell(row= i, column = 13).value = BMI[i-2]\n",
    "    if BMI[i-2]>=18.5 and BMI[i-2]<=24.9 :\n",
    "        sheet.cell(row = i, column = 14).value = 1\n",
    "    elif BMI[i-2]<18.5 :\n",
    "        sheet.cell(row = i, column = 14).value = 0\n",
    "    else:\n",
    "        sheet.cell(row = i, column = 14).value = 2"
   ]
  },
  {
   "cell_type": "code",
   "execution_count": 16,
   "metadata": {},
   "outputs": [],
   "source": [
    "workbook.save(r'C:\\Users\\Rashi BHansali\\Desktop\\Python Project A11\\Train_set1.xlsx')"
   ]
  },
  {
   "cell_type": "markdown",
   "metadata": {},
   "source": [
    "### Part 2 has machine learning (data science)"
   ]
  }
 ],
 "metadata": {
  "kernelspec": {
   "display_name": "Python 3",
   "language": "python",
   "name": "python3"
  },
  "language_info": {
   "codemirror_mode": {
    "name": "ipython",
    "version": 3
   },
   "file_extension": ".py",
   "mimetype": "text/x-python",
   "name": "python",
   "nbconvert_exporter": "python",
   "pygments_lexer": "ipython3",
   "version": "3.7.1"
  }
 },
 "nbformat": 4,
 "nbformat_minor": 2
}
